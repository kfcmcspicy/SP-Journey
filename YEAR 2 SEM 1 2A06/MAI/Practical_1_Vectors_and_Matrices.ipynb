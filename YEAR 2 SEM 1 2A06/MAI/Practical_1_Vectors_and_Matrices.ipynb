{
 "cells": [
  {
   "cell_type": "markdown",
   "metadata": {},
   "source": [
    "# Practical 1: Vectors & Matrices\n"
   ]
  },
  {
   "cell_type": "markdown",
   "metadata": {},
   "source": [
    "Many machine learning algorithms make use of matrices to store and process data. \n",
    "For example, a deep learning algorithm makes use of matrices to store inputs such as \n",
    "images, tweets, or text to solve problems. An artificial neural network makes use of \n",
    "matrices to store information such as weights during training. A familiarity with \n",
    "matrices and vectors is hence important.\n",
    "\n",
    "In this practical we will learn some of the fundamentals of matrices and vectors."
   ]
  },
  {
   "cell_type": "markdown",
   "metadata": {},
   "source": [
    "A **vector** can be represented as a list in Python.\n",
    "For example:"
   ]
  },
  {
   "cell_type": "code",
   "execution_count": 1,
   "metadata": {
    "collapsed": true
   },
   "outputs": [
    {
     "name": "stdout",
     "output_type": "stream",
     "text": [
      "[1, 4, 2]\n"
     ]
    }
   ],
   "source": [
    "v = [ 1, 4, 2]\n",
    "print(v)"
   ]
  },
  {
   "cell_type": "markdown",
   "metadata": {},
   "source": [
    "A **matrix** is a 2D array which stores numbers. \n",
    "Alternatively, a matrix can also be thought of as \n",
    "a list of vectors.\n",
    "\n",
    "An example:"
   ]
  },
  {
   "cell_type": "code",
   "execution_count": 2,
   "metadata": {
    "collapsed": true
   },
   "outputs": [
    {
     "name": "stdout",
     "output_type": "stream",
     "text": [
      "[[1, 4, 2], [0, 6, 3], [3, 5, 6]]\n"
     ]
    }
   ],
   "source": [
    "A = [[1,4,2],[0,6,3],[3,5,6]]\n",
    "print(A)"
   ]
  },
  {
   "cell_type": "markdown",
   "metadata": {},
   "source": [
    "An alternative way to work with vectors and matrices is\n",
    "to use the **NumPy** module in Python."
   ]
  },
  {
   "cell_type": "code",
   "execution_count": 3,
   "metadata": {
    "collapsed": true
   },
   "outputs": [
    {
     "name": "stdout",
     "output_type": "stream",
     "text": [
      "[[1]\n",
      " [4]\n",
      " [2]]\n",
      "[[1 4 2]\n",
      " [0 6 3]\n",
      " [3 5 6]]\n"
     ]
    }
   ],
   "source": [
    "import numpy as np\n",
    "v = np.array([[1],\n",
    "               [4],\n",
    "               [2]])\n",
    "print(v)\n",
    "A = np.array([[1,4, 2], [0, 6, 3],[3, 5, 6]])\n",
    "print(A)"
   ]
  },
  {
   "cell_type": "markdown",
   "metadata": {},
   "source": [
    "We can check the order of **A** and **v** as follows:"
   ]
  },
  {
   "cell_type": "code",
   "execution_count": 4,
   "metadata": {
    "collapsed": true
   },
   "outputs": [
    {
     "name": "stdout",
     "output_type": "stream",
     "text": [
      "A if of dimension:  (3, 3)\n",
      "v is of dimension:  (3, 1)\n"
     ]
    }
   ],
   "source": [
    "print(\"A if of dimension: \", A.shape)\n",
    "print(\"v is of dimension: \", v.shape)"
   ]
  },
  {
   "cell_type": "markdown",
   "metadata": {},
   "source": [
    "There are a lot of matrix operations which we can make use\n",
    "of in **NumPy**. Some examples are given below."
   ]
  },
  {
   "cell_type": "code",
   "execution_count": 5,
   "metadata": {
    "collapsed": true
   },
   "outputs": [
    {
     "name": "stdout",
     "output_type": "stream",
     "text": [
      "[[5 8]\n",
      " [6 9]]\n",
      "[[ 3  2]\n",
      " [ 4 -1]]\n",
      "[[ 8 10]\n",
      " [10  8]]\n"
     ]
    }
   ],
   "source": [
    "# Matrix Addition\n",
    "A = np.array([[5,8],[6,9]])\n",
    "print(A)\n",
    "B = np.array([[3,2],[4,-1]])\n",
    "print(B)\n",
    "C = A+B\n",
    "print(C)"
   ]
  },
  {
   "cell_type": "code",
   "execution_count": 6,
   "metadata": {
    "collapsed": true
   },
   "outputs": [
    {
     "name": "stdout",
     "output_type": "stream",
     "text": [
      "[[ 2  6]\n",
      " [ 2 10]]\n"
     ]
    }
   ],
   "source": [
    "# Matrix Subtraction\n",
    "D = A - B\n",
    "print(D)"
   ]
  },
  {
   "cell_type": "code",
   "execution_count": 7,
   "metadata": {
    "collapsed": true
   },
   "outputs": [
    {
     "name": "stdout",
     "output_type": "stream",
     "text": [
      "[[5 8]\n",
      " [6 9]]\n",
      "[[10 16]\n",
      " [12 18]]\n"
     ]
    }
   ],
   "source": [
    "# Matrix-Scalar Multiplication\n",
    "A = np.array([[5,8],[6,9]])\n",
    "print(A)\n",
    "b = 2\n",
    "E = A*2\n",
    "print(E)"
   ]
  },
  {
   "cell_type": "code",
   "execution_count": 8,
   "metadata": {
    "collapsed": true
   },
   "outputs": [
    {
     "name": "stdout",
     "output_type": "stream",
     "text": [
      "[[5 8]\n",
      " [6 9]]\n",
      "[[1]\n",
      " [4]]\n",
      "[[37]\n",
      " [42]]\n"
     ]
    }
   ],
   "source": [
    "# Matrix-Vector Multiplication\n",
    "A = np.array([[5,8],[6,9]])\n",
    "print(A)\n",
    "v = np.array([[1],[4]])\n",
    "print(v)\n",
    "w = np.dot(A,v)\n",
    "print(w)"
   ]
  },
  {
   "cell_type": "code",
   "execution_count": 9,
   "metadata": {
    "collapsed": true
   },
   "outputs": [
    {
     "name": "stdout",
     "output_type": "stream",
     "text": [
      "[[5 8]\n",
      " [6 9]]\n",
      "[[ 3  2]\n",
      " [ 4 -1]]\n",
      "[[47  2]\n",
      " [54  3]]\n"
     ]
    }
   ],
   "source": [
    "# Matrix-Matrix Multiplication\n",
    "A = np.array([[5,8],[6,9]])\n",
    "print(A)\n",
    "B = np.array([[3,2],[4,-1]])\n",
    "print(B)\n",
    "C = np.dot(A,B)\n",
    "print(C)"
   ]
  },
  {
   "cell_type": "code",
   "execution_count": 10,
   "metadata": {
    "collapsed": true,
    "scrolled": true
   },
   "outputs": [
    {
     "name": "stdout",
     "output_type": "stream",
     "text": [
      "[[5 8]\n",
      " [6 9]]\n",
      "[[5 6]\n",
      " [8 9]]\n"
     ]
    }
   ],
   "source": [
    "# Taking transpose\n",
    "print(A)\n",
    "B = A.T\n",
    "print(B)"
   ]
  },
  {
   "cell_type": "code",
   "execution_count": 11,
   "metadata": {
    "collapsed": true
   },
   "outputs": [
    {
     "name": "stdout",
     "output_type": "stream",
     "text": [
      "[[5 8]\n",
      " [6 9]]\n",
      "14\n"
     ]
    }
   ],
   "source": [
    "# Finding trace\n",
    "print(A)\n",
    "traceA = np.trace(A)\n",
    "print(traceA)"
   ]
  },
  {
   "cell_type": "code",
   "execution_count": 12,
   "metadata": {
    "collapsed": true
   },
   "outputs": [
    {
     "name": "stdout",
     "output_type": "stream",
     "text": [
      "[[5 8]\n",
      " [6 9]]\n",
      "-3.000000000000005\n"
     ]
    }
   ],
   "source": [
    "# Finding Matrix Determinant\n",
    "A = np.array([[5,8],[6,9]])\n",
    "print(A)\n",
    "detA = np.linalg.det(A)\n",
    "print(detA)"
   ]
  },
  {
   "cell_type": "code",
   "execution_count": 13,
   "metadata": {
    "collapsed": true
   },
   "outputs": [
    {
     "name": "stdout",
     "output_type": "stream",
     "text": [
      "[[5 8]\n",
      " [6 9]]\n",
      "[[-3.          2.66666667]\n",
      " [ 2.         -1.66666667]]\n"
     ]
    }
   ],
   "source": [
    "# Matrix Inverse\n",
    "print(A)\n",
    "B = np.linalg.inv(A)\n",
    "print(B)"
   ]
  },
  {
   "cell_type": "code",
   "execution_count": null,
   "metadata": {},
   "outputs": [],
   "source": [
    "A = np.array([[5,8],[6,9]])"
   ]
  },
  {
   "cell_type": "markdown",
   "metadata": {},
   "source": [
    "An **identity matrix** of order 3 can be created as follows:"
   ]
  },
  {
   "cell_type": "code",
   "execution_count": 14,
   "metadata": {
    "collapsed": true
   },
   "outputs": [
    {
     "name": "stdout",
     "output_type": "stream",
     "text": [
      "[[1. 0. 0.]\n",
      " [0. 1. 0.]\n",
      " [0. 0. 1.]]\n"
     ]
    }
   ],
   "source": [
    "I3 = np.eye(3)\n",
    "print(I3)"
   ]
  },
  {
   "cell_type": "markdown",
   "metadata": {},
   "source": [
    "To create a 2x3 matrix of random numbers drawn from a normal distribution with mean 0 and variance 1, we use:"
   ]
  },
  {
   "cell_type": "code",
   "execution_count": 15,
   "metadata": {
    "collapsed": true
   },
   "outputs": [
    {
     "name": "stdout",
     "output_type": "stream",
     "text": [
      "[[-0.27677063 -0.72996266 -0.58227823]\n",
      " [ 1.25355498  0.95829834 -0.14723111]]\n"
     ]
    }
   ],
   "source": [
    "weights = np.random.randn(2,3)\n",
    "print(weights)"
   ]
  },
  {
   "cell_type": "markdown",
   "metadata": {},
   "source": [
    "A 3x3 **diagonal matrix** with (1, 5, 1) along its principal diagonal can be constructed as follows:"
   ]
  },
  {
   "cell_type": "code",
   "execution_count": 16,
   "metadata": {
    "collapsed": true
   },
   "outputs": [
    {
     "name": "stdout",
     "output_type": "stream",
     "text": [
      "[[1 0 0]\n",
      " [0 5 0]\n",
      " [0 0 1]]\n"
     ]
    }
   ],
   "source": [
    "A = np.diag((1, 5, 1))\n",
    "print(A)"
   ]
  },
  {
   "cell_type": "markdown",
   "metadata": {},
   "source": [
    "To create a 1x3 matrix of **ones**, we can do as follows:"
   ]
  },
  {
   "cell_type": "code",
   "execution_count": 17,
   "metadata": {
    "collapsed": true
   },
   "outputs": [
    {
     "name": "stdout",
     "output_type": "stream",
     "text": [
      "[[1. 1. 1.]]\n"
     ]
    }
   ],
   "source": [
    "print(np.ones((1,3)))"
   ]
  },
  {
   "cell_type": "markdown",
   "metadata": {},
   "source": [
    "### Task 1\n",
    "Enter the matrix $\\mathbf{A}=\\begin{bmatrix}1 & 2 & 4 & 5 \\\\ 0 & 1 & 5 & -2 \\\\ 2 & -4 & 3 & 9 \\end{bmatrix}$ in Python.<br>\n",
    "Display the following: <br>\n",
    "(a)  the size of the matrix $\\mathbf{A}$ <br>\n",
    "(b)  $a_{23}$, $a_{32}$ and $a_{34}$ <br>\n",
    "(c)  row 1 and column 4 of $\\mathbf{A}$"
   ]
  },
  {
   "cell_type": "code",
   "execution_count": 18,
   "metadata": {
    "collapsed": true
   },
   "outputs": [
    {
     "data": {
      "text/plain": [
       "(3, 4)"
      ]
     },
     "execution_count": 18,
     "metadata": {},
     "output_type": "execute_result"
    }
   ],
   "source": [
    "A = np.array([[1,2,4,5],[0,1,5,-2],[2,-4,3,9]])\n",
    "A.shape"
   ]
  },
  {
   "cell_type": "code",
   "execution_count": 19,
   "metadata": {
    "collapsed": true
   },
   "outputs": [
    {
     "name": "stdout",
     "output_type": "stream",
     "text": [
      "A23 = 5\n",
      "A32 = -4\n",
      "A34 = 9\n"
     ]
    }
   ],
   "source": [
    "print(f\"A23 = {A[2-1,3-1]}\")\n",
    "print(f\"A32 = {A[3-1,2-1]}\")\n",
    "print(f\"A34 = {A[3-1,4-1]}\")"
   ]
  },
  {
   "cell_type": "code",
   "execution_count": 20,
   "metadata": {
    "collapsed": true
   },
   "outputs": [
    {
     "name": "stdout",
     "output_type": "stream",
     "text": [
      "row 1 = [1 2 4 5]\n",
      "col 4 = [ 5 -2  9]\n"
     ]
    }
   ],
   "source": [
    "print(f\"row 1 = {A[1-1]}\")\n",
    "print(f\"col 4 = {A[:,4-1]}\")"
   ]
  },
  {
   "cell_type": "markdown",
   "metadata": {},
   "source": [
    "### Task 2###\n",
    "Enter the following matrices in Python. <br>\n",
    "$\\mathbf{A}=\\begin{bmatrix}7 & -3 \\\\ 2 & 1 \\\\ 9 & -6 \\\\ -3 & 2 \\end{bmatrix} , \n",
    "\\mathbf{B}=\\begin{bmatrix}2 \\\\ 5 \\end{bmatrix} , \n",
    "\\mathbf{C}=\\begin{bmatrix}5 & 1 & -8 & 4 \\\\ 2 & 7 & -3 & 5\\end{bmatrix}$ <br>\n",
    "Compute each of the following expression if possible. <br>\n",
    "(a) $\\mathbf{AC}$ <br>\n",
    "(b) $\\mathbf{AB}$ <br>\n",
    "(c) $\\mathbf{A} + \\mathbf{C}^T$ <br>\n",
    "(d) $\\mathbf{BA}$ <br>\n",
    "(e) $\\mathbf{AA}^T + \\mathbf{C}^T\\mathbf{C}$ <br>\n",
    "(f) $\\mathbf{A} + 2\\mathbf{C}^T$"
   ]
  },
  {
   "cell_type": "code",
   "execution_count": 21,
   "metadata": {
    "collapsed": true
   },
   "outputs": [
    {
     "data": {
      "text/plain": [
       "array([[ 29, -14, -47,  13],\n",
       "       [ 12,   9, -19,  13],\n",
       "       [ 33, -33, -54,   6],\n",
       "       [-11,  11,  18,  -2]])"
      ]
     },
     "execution_count": 21,
     "metadata": {},
     "output_type": "execute_result"
    }
   ],
   "source": [
    "A = np.array([[7, -3], [2, 1], [9, -6], [-3, 2]])\n",
    "B = np.array([[2],[5]])\n",
    "C = np.array([[5,1,-8,4],[2,7,-3,5]])\n",
    "A.dot(C)"
   ]
  },
  {
   "cell_type": "code",
   "execution_count": 22,
   "metadata": {
    "collapsed": true
   },
   "outputs": [
    {
     "data": {
      "text/plain": [
       "array([[ -1],\n",
       "       [  9],\n",
       "       [-12],\n",
       "       [  4]])"
      ]
     },
     "execution_count": 22,
     "metadata": {},
     "output_type": "execute_result"
    }
   ],
   "source": [
    "A.dot(B)"
   ]
  },
  {
   "cell_type": "code",
   "execution_count": 23,
   "metadata": {
    "collapsed": true
   },
   "outputs": [
    {
     "data": {
      "text/plain": [
       "array([[12, -1],\n",
       "       [ 3,  8],\n",
       "       [ 1, -9],\n",
       "       [ 1,  7]])"
      ]
     },
     "execution_count": 23,
     "metadata": {},
     "output_type": "execute_result"
    }
   ],
   "source": [
    "A + C.T"
   ]
  },
  {
   "cell_type": "code",
   "execution_count": 24,
   "metadata": {
    "collapsed": true
   },
   "outputs": [
    {
     "ename": "ValueError",
     "evalue": "shapes (2,1) and (4,2) not aligned: 1 (dim 1) != 4 (dim 0)",
     "output_type": "error",
     "traceback": [
      "\u001b[1;31m---------------------------------------------------------------------------\u001b[0m",
      "\u001b[1;31mValueError\u001b[0m                                Traceback (most recent call last)",
      "\u001b[1;32mc:\\Users\\3mm3t\\OneDrive\\Desktop\\YEAR 2 SEM 1 2A06\\MAI\\Practical_1_Vectors_and_Matrices.ipynb Cell 37\u001b[0m in \u001b[0;36m<cell line: 1>\u001b[1;34m()\u001b[0m\n\u001b[1;32m----> <a href='vscode-notebook-cell:/c%3A/Users/3mm3t/OneDrive/Desktop/YEAR%202%20SEM%201%202A06/MAI/Practical_1_Vectors_and_Matrices.ipynb#X51sZmlsZQ%3D%3D?line=0'>1</a>\u001b[0m B\u001b[39m.\u001b[39;49mdot(A)\n",
      "\u001b[1;31mValueError\u001b[0m: shapes (2,1) and (4,2) not aligned: 1 (dim 1) != 4 (dim 0)"
     ]
    }
   ],
   "source": [
    "B.dot(A)"
   ]
  },
  {
   "cell_type": "code",
   "execution_count": 25,
   "metadata": {
    "collapsed": true
   },
   "outputs": [
    {
     "data": {
      "text/plain": [
       "array([[ 87,  30,  35,   3],\n",
       "       [ 30,  55, -17,  35],\n",
       "       [ 35, -17, 190, -86],\n",
       "       [  3,  35, -86,  54]])"
      ]
     },
     "execution_count": 25,
     "metadata": {},
     "output_type": "execute_result"
    }
   ],
   "source": [
    "A.dot(A.T) + C.T.dot(C)"
   ]
  },
  {
   "cell_type": "code",
   "execution_count": 26,
   "metadata": {
    "collapsed": true
   },
   "outputs": [
    {
     "data": {
      "text/plain": [
       "array([[ 17,   1],\n",
       "       [  4,  15],\n",
       "       [ -7, -12],\n",
       "       [  5,  12]])"
      ]
     },
     "execution_count": 26,
     "metadata": {},
     "output_type": "execute_result"
    }
   ],
   "source": [
    "A + 2 * C.T"
   ]
  },
  {
   "cell_type": "markdown",
   "metadata": {},
   "source": [
    "### Task 3###\n",
    "Determine if each of the following matrices is singular.<br>\n",
    "(a) $\\mathbf{A}=\\begin{bmatrix}1 & 2 & 3 \\\\ 4 & 5 & 6 \\\\ 7 & 8 & 9 \\end{bmatrix}$ <br><br>\n",
    "(b) $\\mathbf{A}=\\begin{bmatrix}0 & 1 & 3 & 4 \\\\ -2 & 1 & 2 & 1 \\\\ 2 & 0 & 1 & 0 \\\\ 0 & 8 & 3 & 1 \\end{bmatrix}$ <br>"
   ]
  },
  {
   "cell_type": "code",
   "execution_count": 27,
   "metadata": {
    "collapsed": true
   },
   "outputs": [
    {
     "data": {
      "text/plain": [
       "6.66133814775094e-16"
      ]
     },
     "execution_count": 27,
     "metadata": {},
     "output_type": "execute_result"
    }
   ],
   "source": [
    "A = np.arange(1,10,1).reshape(3,3)\n",
    "np.linalg.det(A)"
   ]
  },
  {
   "cell_type": "code",
   "execution_count": null,
   "metadata": {
    "collapsed": true
   },
   "outputs": [
    {
     "data": {
      "text/plain": [
       "-126.0"
      ]
     },
     "execution_count": 39,
     "metadata": {},
     "output_type": "execute_result"
    }
   ],
   "source": [
    "A = np.array([[0,1,3,4],[-2,1,2,1],[2,0,1,0],[0,8,3,1]])\n",
    "np.linalg.det(A)"
   ]
  },
  {
   "cell_type": "markdown",
   "metadata": {},
   "source": [
    "### Task 4###\n",
    "Find the inverse of each matrix.<br>\n",
    "(a) $\\mathbf{A}=\\begin{bmatrix}2 & 1 \\\\ 3 & 5 \\end{bmatrix}$ <br><br>\n",
    "(b) $\\mathbf{A}=\\begin{bmatrix}1 & 1 & 2 \\\\ 2 & 1 & 1 \\\\ 1 & 2 & 1 \\end{bmatrix}$"
   ]
  },
  {
   "cell_type": "code",
   "execution_count": null,
   "metadata": {
    "collapsed": true
   },
   "outputs": [
    {
     "data": {
      "text/plain": [
       "array([[ 0.71428571, -0.14285714],\n",
       "       [-0.42857143,  0.28571429]])"
      ]
     },
     "execution_count": 40,
     "metadata": {},
     "output_type": "execute_result"
    }
   ],
   "source": [
    "A = np.array([[2,1],[3,5]])\n",
    "np.linalg.inv(A)"
   ]
  },
  {
   "cell_type": "code",
   "execution_count": null,
   "metadata": {
    "collapsed": true
   },
   "outputs": [
    {
     "data": {
      "text/plain": [
       "array([[-0.25,  0.75, -0.25],\n",
       "       [-0.25, -0.25,  0.75],\n",
       "       [ 0.75, -0.25, -0.25]])"
      ]
     },
     "execution_count": 41,
     "metadata": {},
     "output_type": "execute_result"
    }
   ],
   "source": [
    "A = np.array([[1,1,2],[2,1,1],[1,2,1]])\n",
    "np.linalg.inv(A)"
   ]
  },
  {
   "cell_type": "markdown",
   "metadata": {},
   "source": [
    "### Task 5###\n",
    "Determine the norm of each of the following vectors.<br>\n",
    "(a) $\\mathbf{v}_1=\\begin{bmatrix}2 \\\\ -1 \\\\ 1 \\end{bmatrix}$ <br><br>\n",
    "(b) $\\mathbf{v}_2=\\begin{bmatrix}4 \\\\ 0 \\\\ 3 \\\\ -1 \\end{bmatrix}$ <br><br>\n",
    "(c) $\\mathbf{v}_3=\\begin{bmatrix}1 \\\\ 0 \\\\ 2 \\\\ 2 \\\\ 3 \\end{bmatrix}$"
   ]
  },
  {
   "cell_type": "code",
   "execution_count": null,
   "metadata": {
    "collapsed": true
   },
   "outputs": [
    {
     "data": {
      "text/plain": [
       "2.449489742783178"
      ]
     },
     "execution_count": 42,
     "metadata": {},
     "output_type": "execute_result"
    }
   ],
   "source": [
    "v1 = np.array([[2],[-1],[1]])\n",
    "np.linalg.norm(v1)"
   ]
  },
  {
   "cell_type": "code",
   "execution_count": null,
   "metadata": {
    "collapsed": true
   },
   "outputs": [
    {
     "data": {
      "text/plain": [
       "5.0990195135927845"
      ]
     },
     "execution_count": 43,
     "metadata": {},
     "output_type": "execute_result"
    }
   ],
   "source": [
    "v2 = np.array([[4],[0],[3],[-1]])\n",
    "np.linalg.norm(v2)"
   ]
  },
  {
   "cell_type": "code",
   "execution_count": null,
   "metadata": {
    "collapsed": true
   },
   "outputs": [
    {
     "data": {
      "text/plain": [
       "4.242640687119285"
      ]
     },
     "execution_count": 44,
     "metadata": {},
     "output_type": "execute_result"
    }
   ],
   "source": [
    "v3 = np.array([[1],[0],[2],[2],[3]])\n",
    "np.linalg.norm(v3)"
   ]
  }
 ],
 "metadata": {
  "kernelspec": {
   "display_name": "Python 3",
   "language": "python",
   "name": "python3"
  },
  "language_info": {
   "codemirror_mode": {
    "name": "ipython",
    "version": 3
   },
   "file_extension": ".py",
   "mimetype": "text/x-python",
   "name": "python",
   "nbconvert_exporter": "python",
   "pygments_lexer": "ipython3",
   "version": "3.9.13"
  }
 },
 "nbformat": 4,
 "nbformat_minor": 2
}
