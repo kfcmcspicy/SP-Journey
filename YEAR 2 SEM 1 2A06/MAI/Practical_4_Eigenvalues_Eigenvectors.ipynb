{
 "cells": [
  {
   "attachments": {},
   "cell_type": "markdown",
   "metadata": {},
   "source": [
    "# Practical 4: Eigenvalues and Eigenvectors\n"
   ]
  },
  {
   "attachments": {},
   "cell_type": "markdown",
   "metadata": {},
   "source": [
    "### Eigenvalues & Eigenvectors of a Square Matrix\n"
   ]
  },
  {
   "cell_type": "code",
   "execution_count": 1,
   "metadata": {},
   "outputs": [
    {
     "name": "stdout",
     "output_type": "stream",
     "text": [
      "[[ 1 -1]\n",
      " [ 2  2]]\n",
      "Eigenvalues are:  [1.5+1.32287566j 1.5-1.32287566j]\n",
      "Eigenvectors are:  [[-0.20412415+0.54006172j -0.20412415-0.54006172j]\n",
      " [ 0.81649658+0.j          0.81649658-0.j        ]]\n"
     ]
    }
   ],
   "source": [
    "import numpy as np\n",
    "# Define square matrix A\n",
    "A = np.array([[1, -1],[2,2]])\n",
    "print(A)\n",
    "eigvals, eigvecs = np.linalg.eig(A)\n",
    "print(\"Eigenvalues are: \", eigvals)\n",
    "print(\"Eigenvectors are: \", eigvecs)\n"
   ]
  },
  {
   "cell_type": "code",
   "execution_count": 2,
   "metadata": {},
   "outputs": [
    {
     "name": "stdout",
     "output_type": "stream",
     "text": [
      "[[ 2  0  1]\n",
      " [-1  4 -1]\n",
      " [-1  2  0]]\n",
      "Eigenvalues are:  [3. 2. 1.]\n",
      "Eigenvectors are:  [[ 4.08248290e-01  8.94427191e-01 -7.07106781e-01]\n",
      " [ 8.16496581e-01  4.47213595e-01 -1.67849944e-16]\n",
      " [ 4.08248290e-01  5.30898698e-16  7.07106781e-01]]\n"
     ]
    }
   ],
   "source": [
    "import numpy as np\n",
    "# Define square matrix A\n",
    "A = np.array([[2, 0, 1], [-1, 4, -1], [-1, 2, 0]])\n",
    "print(A)\n",
    "eigvals, eigvecs = np.linalg.eig(A)\n",
    "print(\"Eigenvalues are: \", eigvals)\n",
    "print(\"Eigenvectors are: \", eigvecs)\n"
   ]
  },
  {
   "attachments": {},
   "cell_type": "markdown",
   "metadata": {},
   "source": [
    "So the eigenvalues of A are: 3, 2, and 1\n",
    "Notice that the corresponding eigenvectors are given in columns and are\n",
    "normalized to unit length.\n"
   ]
  },
  {
   "cell_type": "code",
   "execution_count": 3,
   "metadata": {},
   "outputs": [
    {
     "name": "stdout",
     "output_type": "stream",
     "text": [
      "First eigenvalue is:  2.999999999999999\n",
      "Corresponding eigenvector is:  [0.40824829 0.81649658 0.40824829]\n",
      "Its magnitude is:  1.0\n"
     ]
    }
   ],
   "source": [
    "# The first eigenvalue is 3\n",
    "# Its corresponding eigenvector is in column 1 of eigvecs\n",
    "print(\"First eigenvalue is: \", eigvals[0])  # subject to rounding errors\n",
    "print(\"Corresponding eigenvector is: \", eigvecs[:, 0])\n",
    "print(\"Its magnitude is: \", np.linalg.norm(\n",
    "    eigvecs[:, 0]))  # subject to rounding error\n"
   ]
  },
  {
   "attachments": {},
   "cell_type": "markdown",
   "metadata": {},
   "source": [
    "To check whether the first vector and first value are indeed the eigenvector and eigenvalue\n",
    "of A, we do the following:\n"
   ]
  },
  {
   "cell_type": "code",
   "execution_count": 4,
   "metadata": {},
   "outputs": [
    {
     "name": "stdout",
     "output_type": "stream",
     "text": [
      "Av is:  [1.22474487 2.44948974 1.22474487]\n",
      "lambda*v is:  [1.22474487 2.44948974 1.22474487]\n"
     ]
    }
   ],
   "source": [
    "# Find Av\n",
    "B = np.dot(A, eigvecs[:, 0])\n",
    "print(\"Av is: \", B)\n",
    "\n",
    "# Find lambda*v\n",
    "C = eigvals[0] * eigvecs[:, 0]\n",
    "print(\"lambda*v is: \", C)\n"
   ]
  },
  {
   "attachments": {},
   "cell_type": "markdown",
   "metadata": {},
   "source": [
    "Notice that the two answers are the same, confirming that the first vector is an eigenvector\n",
    "corresponding to the first eigenvalue.\n"
   ]
  },
  {
   "attachments": {},
   "cell_type": "markdown",
   "metadata": {},
   "source": [
    "### Task 1\n"
   ]
  },
  {
   "attachments": {},
   "cell_type": "markdown",
   "metadata": {},
   "source": [
    "Some properties of eigenvalues include:<br>\n",
    "• The sum of eigenvalues of a matrix equals its trace.<br>\n",
    "• The product of eigenvalues equals its determinant.<br><br>\n",
    "Verify the properties above using the matrix $\\mathbf{A}=\\begin{bmatrix}2 & 1 & 2 \\\\ 2 & 2 & -2 \\\\ 3 & 1 & 1 \\end{bmatrix}$\n"
   ]
  },
  {
   "cell_type": "code",
   "execution_count": 5,
   "metadata": {
    "collapsed": true
   },
   "outputs": [
    {
     "name": "stdout",
     "output_type": "stream",
     "text": [
      "The sum of eigenvalues of matrix is equals to trace: True\n",
      "The product of eigenvalues equals its determinant: True\n"
     ]
    }
   ],
   "source": [
    "import numpy as np\n",
    "A = np.array([[2, 1, 2], [2, 2, -2], [3, 1, 1]])\n",
    "trace = A.trace()\n",
    "det = np.linalg.det(A)\n",
    "eigvals, eigvecs = np.linalg.eig(A)\n",
    "\n",
    "print(\n",
    "    f\"The sum of eigenvalues of matrix is equals to trace: {round(sum(eigvals),0) == trace}\")\n",
    "print(\n",
    "    f\"The product of eigenvalues equals its determinant: {round(np.product(eigvals),0) == round(det,0)}\")\n"
   ]
  },
  {
   "attachments": {},
   "cell_type": "markdown",
   "metadata": {},
   "source": [
    "### Task 2\n"
   ]
  },
  {
   "attachments": {},
   "cell_type": "markdown",
   "metadata": {},
   "source": [
    "**Symmetric Matrix**: The eigenvalues of a symmetrical matrix are always real and the eigenvectors are always orthogonal. Verify this in Python for the matrix A below.<br>\n",
    "$$\\mathbf{A}=\\begin{bmatrix}1 & -1 & 0 \\\\ -1 & 2 & -1 \\\\ 0 & -1 & 1 \\end{bmatrix}$$\n"
   ]
  },
  {
   "cell_type": "code",
   "execution_count": 6,
   "metadata": {
    "collapsed": true
   },
   "outputs": [
    {
     "name": "stdout",
     "output_type": "stream",
     "text": [
      "-2.295282842158142e-17\n",
      "1.1102230246251565e-16\n",
      "1.3397513088409747e-16\n"
     ]
    }
   ],
   "source": [
    "import numpy as np\n",
    "A = np.array([[1, -1, 0], [-1, 2, -1], [0, -1, 1]])\n",
    "eigvals, eigvecs = np.linalg.eig(A)\n",
    "\n",
    "for i in range(len(A) - 1):\n",
    "    for j in range(i + 1, len(A)):\n",
    "        print(eigvecs[i].T.dot(eigvecs[j]))\n"
   ]
  }
 ],
 "metadata": {
  "interpreter": {
   "hash": "52e983d99f1ee1724ebc56d243e629cbda5dd70db685e0d43d347a5d2175e1e1"
  },
  "kernelspec": {
   "display_name": "Python 3.8.8 ('base')",
   "language": "python",
   "name": "python3"
  },
  "language_info": {
   "codemirror_mode": {
    "name": "ipython",
    "version": 3
   },
   "file_extension": ".py",
   "mimetype": "text/x-python",
   "name": "python",
   "nbconvert_exporter": "python",
   "pygments_lexer": "ipython3",
   "version": "3.9.13"
  }
 },
 "nbformat": 4,
 "nbformat_minor": 2
}
