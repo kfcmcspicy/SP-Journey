{
 "cells": [
  {
   "attachments": {},
   "cell_type": "markdown",
   "metadata": {},
   "source": [
    "### Singular Value Decomposition\n",
    "\n",
    "We can use numpy.linalg.svd to find a singular value decomposition for a matrix $\\mathbf{A}=\\begin{bmatrix}1 & 2 & 1 \\\\ 0 & 1 & 4 \\\\ 1 & 4 & 9 \\\\ 1 & -1 & -11 \\end{bmatrix}$."
   ]
  },
  {
   "cell_type": "code",
   "execution_count": 12,
   "metadata": {},
   "outputs": [
    {
     "name": "stdout",
     "output_type": "stream",
     "text": [
      "Eigenvalues are:  [3. 1.]\n",
      "Eigenvectors are:  [[ 0.70710678 -0.70710678]\n",
      " [ 0.70710678  0.70710678]]\n",
      "Eigenvectors are:  Matrix([[sqrt(2)/2, -sqrt(2)/2], [sqrt(2)/2, sqrt(2)/2]]) \n",
      "\n",
      "A is:  [[1 1]\n",
      " [0 1]\n",
      " [1 0]]\n",
      "U is:  [[-8.16496581e-01 -1.66533454e-16 -5.77350269e-01]\n",
      " [-4.08248290e-01 -7.07106781e-01  5.77350269e-01]\n",
      " [-4.08248290e-01  7.07106781e-01  5.77350269e-01]]\n",
      "Sigma (E) is:  [1.73205081 1.        ]\n",
      "V is:  [[-0.70710678  0.70710678]\n",
      " [-0.70710678 -0.70710678]]\n",
      "0.00 \n",
      "\n",
      "A is:  [[1 1]\n",
      " [0 1]\n",
      " [1 0]]\n",
      "U is:  Matrix([[-sqrt(6)/3, -166533453693773/1000000000000000000000000000000, -sqrt(3)/3], [-sqrt(6)/6, -sqrt(2)/2, sqrt(3)/3], [-sqrt(6)/6, sqrt(2)/2, sqrt(3)/3]])\n",
      "Sigma (E) is:  Matrix([[sqrt(3), 0], [0, 1], [0, 0]])\n",
      "V is:  Matrix([[-sqrt(2)/2, sqrt(2)/2], [-sqrt(2)/2, -sqrt(2)/2]])\n"
     ]
    }
   ],
   "source": [
    "import matplotlib.pyplot as plt\n",
    "import matplotlib.image as image\n",
    "import numpy as np\n",
    "from sympy import nsimplify, Matrix\n",
    "# Define matrix A\n",
    "# A = np.array([[1,2,1],[0,1,4],[1,4,9],[1,-1,-11]])\n",
    "A = np.array([[1,1],[0,1],[1,0]])\n",
    "transpose = np.transpose(A)\n",
    "ATA = transpose@A\n",
    "m,n = np.shape(A)\n",
    "U,S,VT = np.linalg.svd(A)\n",
    "V = VT.T\n",
    "\n",
    "eigvals, eigvecs = np.linalg.eig(ATA)\n",
    "print(\"Eigenvalues are: \", eigvals)\n",
    "print(\"Eigenvectors are: \", eigvecs)\n",
    "\n",
    "eigvecs = Matrix(eigvecs)\n",
    "eigvecs_surd = eigvecs.applyfunc(nsimplify)\n",
    "print(\"Eigenvectors are: \", eigvecs_surd, '\\n')\n",
    "\n",
    "if m!=n:\n",
    "    Sigma = np.zeros([m,n])\n",
    "    for row in range(len(S)):\n",
    "        Sigma[row,row]=S[row]       \n",
    "else:\n",
    "    Sigma = np.diag(S)\n",
    "\n",
    "print(\"A is: \", A)  \n",
    "print(\"U is: \", U)\n",
    "print(\"Sigma (E) is: \", S)\n",
    "print(\"V is: \", V)\n",
    "print(format(Sigma[0,1], \"0.2f\"), '\\n')\n",
    "    \n",
    "Sigma = Matrix(Sigma)\n",
    "Sigma_surd = Sigma.applyfunc(nsimplify)\n",
    "    \n",
    "U = Matrix(U)\n",
    "U_surd = U.applyfunc(nsimplify)\n",
    "\n",
    "V = Matrix(V)\n",
    "V_surd = V.applyfunc(nsimplify)\n",
    "\n",
    "print(\"A is: \", A)\n",
    "print(\"U is: \", U_surd)\n",
    "print(\"Sigma (E) is: \", Sigma_surd)\n",
    "print(\"V is: \", V_surd)"
   ]
  },
  {
   "attachments": {},
   "cell_type": "markdown",
   "metadata": {},
   "source": [
    "We can verify that $\\mathbf{A}=\\mathbf{U\\Sigma V}^T$."
   ]
  },
  {
   "cell_type": "code",
   "execution_count": 9,
   "metadata": {},
   "outputs": [
    {
     "name": "stdout",
     "output_type": "stream",
     "text": [
      "[[1.00000000000000 0.999999999999999]\n",
      " [5.55111512312578e-17 1.00000000000000]\n",
      " [1.00000000000000 -5.55111512312578e-17]]\n"
     ]
    }
   ],
   "source": [
    "print(np.matmul(np.matmul(U,Sigma),VT))"
   ]
  },
  {
   "attachments": {},
   "cell_type": "markdown",
   "metadata": {},
   "source": [
    "### Reduced Singular Value Decomposition\n",
    "\n",
    "Remove columns in $\\mathbf{U}$ and $\\mathbf{V}$ to obtain a reduced SVD for $\\mathbf{A}$, $\\mathbf{A}=\\mathbf{U}_r\\mathbf{\\Sigma}_r \\mathbf{V}_r^T$."
   ]
  },
  {
   "cell_type": "code",
   "execution_count": 10,
   "metadata": {},
   "outputs": [
    {
     "name": "stdout",
     "output_type": "stream",
     "text": [
      "U_r is:  Matrix([[-0.816496580927726, -1.66533453693773e-16], [-0.408248290463863, -0.707106781186547], [-0.408248290463863, 0.707106781186547]])\n",
      "Sigma_r is:  Matrix([[1.73205080756888, 0], [0, 1.00000000000000]])\n",
      "V_r is:  Matrix([[-0.707106781186548, 0.707106781186547], [-0.707106781186547, -0.707106781186548]])\n"
     ]
    }
   ],
   "source": [
    "# select only first r columns of U and V and first r columns and rows of Sigma\n",
    "r = 2\n",
    "U_r = U[:,0:r]\n",
    "Sigma_r = Sigma[0:r,0:r]\n",
    "V_r = V[:,0:r]\n",
    "print(\"U_r is: \", U_r)\n",
    "print(\"Sigma_r is: \", Sigma_r)\n",
    "print(\"V_r is: \", V_r)"
   ]
  },
  {
   "attachments": {},
   "cell_type": "markdown",
   "metadata": {},
   "source": [
    "We can verify that $\\mathbf{A}=\\mathbf{U}_r\\mathbf{\\Sigma}_r \\mathbf{V}_r^T$."
   ]
  },
  {
   "cell_type": "code",
   "execution_count": 11,
   "metadata": {},
   "outputs": [
    {
     "name": "stdout",
     "output_type": "stream",
     "text": [
      "[[1.00000000000000 0.999999999999999]\n",
      " [5.55111512312578e-17 1.00000000000000]\n",
      " [1.00000000000000 -5.55111512312578e-17]]\n"
     ]
    }
   ],
   "source": [
    "print(np.matmul(np.matmul(U_r,Sigma_r),V_r.T))"
   ]
  }
 ],
 "metadata": {
  "kernelspec": {
   "display_name": "base",
   "language": "python",
   "name": "python3"
  },
  "language_info": {
   "codemirror_mode": {
    "name": "ipython",
    "version": 3
   },
   "file_extension": ".py",
   "mimetype": "text/x-python",
   "name": "python",
   "nbconvert_exporter": "python",
   "pygments_lexer": "ipython3",
   "version": "3.9.13"
  },
  "orig_nbformat": 4
 },
 "nbformat": 4,
 "nbformat_minor": 2
}
