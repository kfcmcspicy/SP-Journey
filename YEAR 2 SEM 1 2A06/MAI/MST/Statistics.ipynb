{
 "cells": [
  {
   "cell_type": "code",
   "execution_count": 2,
   "metadata": {},
   "outputs": [
    {
     "name": "stdout",
     "output_type": "stream",
     "text": [
      "[[15.5 33.2]\n",
      " [ 2.4 59.8]\n",
      " [ 8.2 22.2]] \n",
      "\n",
      "Shape: (3, 2) \n",
      "\n",
      "Mean vector: \n",
      " [ 8.7 38.4] \n",
      "\n",
      "Covariance matrix: \n",
      " [[ 43.09 -81.04]\n",
      " [-81.04 373.72]] \n",
      "\n",
      "Correlation matrix: \n",
      " [[ 1.         -0.63861338]\n",
      " [-0.63861338  1.        ]] \n",
      "\n",
      "Generalised sample variance:  9536.1132 \n",
      "\n",
      "Total sample variance:  416.8099999999999 \n",
      "\n"
     ]
    }
   ],
   "source": [
    "import numpy as np\n",
    "\n",
    "data = np.array([[15.5, 33.2],[2.4, 59.8],[8.2, 22.2]])\n",
    "print(data,'\\n')\n",
    "print('Shape:', data.shape,'\\n')\n",
    "\n",
    "mean_vector = np.mean(data, axis=0)\n",
    "print('Mean vector: \\n', mean_vector,'\\n')\n",
    "\n",
    "C = np.cov(data, rowvar=False)\n",
    "print('Covariance matrix: \\n', C,'\\n')\n",
    "\n",
    "R = np.corrcoef(data, rowvar=0)\n",
    "print('Correlation matrix: \\n', R,'\\n')\n",
    "\n",
    "generalisedSampleVariance = (C[0,0]*C[1,1] - C[0,1]**2)\n",
    "print('Generalised sample variance: ', generalisedSampleVariance,'\\n')\n",
    "\n",
    "totalSampleVariance = (C[0,0] + C[1,1])\n",
    "print('Total sample variance: ', totalSampleVariance,'\\n')"
   ]
  }
 ],
 "metadata": {
  "kernelspec": {
   "display_name": "base",
   "language": "python",
   "name": "python3"
  },
  "language_info": {
   "codemirror_mode": {
    "name": "ipython",
    "version": 3
   },
   "file_extension": ".py",
   "mimetype": "text/x-python",
   "name": "python",
   "nbconvert_exporter": "python",
   "pygments_lexer": "ipython3",
   "version": "3.9.13"
  },
  "orig_nbformat": 4
 },
 "nbformat": 4,
 "nbformat_minor": 2
}
