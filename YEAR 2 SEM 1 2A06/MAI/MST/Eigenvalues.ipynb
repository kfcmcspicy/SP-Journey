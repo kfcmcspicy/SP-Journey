{
 "cells": [
  {
   "attachments": {},
   "cell_type": "markdown",
   "metadata": {},
   "source": [
    "### Eigenvalues & Eigenvectors of a Square Matrix"
   ]
  },
  {
   "cell_type": "code",
   "execution_count": 1,
   "metadata": {},
   "outputs": [
    {
     "name": "stdout",
     "output_type": "stream",
     "text": [
      "[[ 1 -1]\n",
      " [ 2  2]]\n",
      "Eigenvalues are:  [1.5+1.32287566j 1.5-1.32287566j]\n",
      "Eigenvectors are:  [[-0.20412415+0.54006172j -0.20412415-0.54006172j]\n",
      " [ 0.81649658+0.j          0.81649658-0.j        ]]\n",
      "Eigenvectors are:  Matrix([[-sqrt(6)/12 + sqrt(42)*I/12, -sqrt(6)/12 - sqrt(42)*I/12], [sqrt(6)/3, sqrt(6)/3]])\n"
     ]
    }
   ],
   "source": [
    "import matplotlib.pyplot as plt\n",
    "import matplotlib.image as image\n",
    "import numpy as np\n",
    "from sympy import nsimplify, Matrix\n",
    "\n",
    "# Define square matrix A\n",
    "A = np.array([[1, -1],[2,2]])\n",
    "print(A)\n",
    "eigvals, eigvecs = np.linalg.eig(A)\n",
    "print(\"Eigenvalues are: \", eigvals)\n",
    "print(\"Eigenvectors are: \", eigvecs)\n",
    "\n",
    "eigvecs = Matrix(eigvecs)\n",
    "eigvecs_surd = eigvecs.applyfunc(nsimplify)\n",
    "print(\"Eigenvectors are: \", eigvecs_surd)\n",
    "\n"
   ]
  }
 ],
 "metadata": {
  "kernelspec": {
   "display_name": "base",
   "language": "python",
   "name": "python3"
  },
  "language_info": {
   "codemirror_mode": {
    "name": "ipython",
    "version": 3
   },
   "file_extension": ".py",
   "mimetype": "text/x-python",
   "name": "python",
   "nbconvert_exporter": "python",
   "pygments_lexer": "ipython3",
   "version": "3.9.13"
  },
  "orig_nbformat": 4
 },
 "nbformat": 4,
 "nbformat_minor": 2
}
