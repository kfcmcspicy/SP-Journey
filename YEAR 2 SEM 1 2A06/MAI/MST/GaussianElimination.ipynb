{
 "cells": [
  {
   "cell_type": "code",
   "execution_count": 6,
   "metadata": {},
   "outputs": [
    {
     "name": "stdout",
     "output_type": "stream",
     "text": [
      "Before Gaussian elimination \n",
      " [[     1.        1.        1.   200000.  ]\n",
      " [     0.04      0.05      0.1   12000.  ]] \n",
      "\n",
      "After Gaussian elimination \n",
      " [[     1.        1.        1.   200000.  ]\n",
      " [     0.04      0.05      0.1   12000.  ]] \n",
      "\n",
      "Reduced row echolon form (basically substituting T)\n",
      " [[     1.        1.        1.   200000.  ]\n",
      " [     0.04      0.05      0.1   12000.  ]] \n",
      "\n"
     ]
    }
   ],
   "source": [
    "import numpy as np\n",
    "from sympy import nsimplify, Matrix\n",
    "np.set_printoptions(precision=3, suppress=True)\n",
    "A = np.array([[1,1,1],[0.04,0.05,0.1]], dtype='float') #this is your x,y,z\n",
    "b = np.array([[200000,12000]]) #this is your result\n",
    "Ab = np.hstack([A, b.reshape(-1, 1)])\n",
    "n = len(b)\n",
    "print('Before Gaussian elimination \\n',Ab, '\\n')\n",
    "\n",
    "#Converts augmented matrix to row echelon form\n",
    "for i in range(n):\n",
    "    a = Ab[i]\n",
    "\n",
    "    for j in range(i + 1, n):\n",
    "        b = Ab[j]\n",
    "        m = b[i] / a[i]\n",
    "        Ab[j] = b - m * a\n",
    "\n",
    "print('After Gaussian elimination \\n',Ab, '\\n')\n",
    "\n",
    "#Converts row echelon form to reduced row echelon form\n",
    "for i in range(n - 1, -1, -1):\n",
    "    Ab[i] = Ab[i] / Ab[i, i]\n",
    "    a = Ab[i]\n",
    "\n",
    "    for j in range(i - 1, -1, -1):\n",
    "        b = Ab[j]\n",
    "        m = b[i] / a[i]\n",
    "        Ab[j] = b - m * a\n",
    "        \n",
    "print('Reduced row echolon form (basically substituting T)\\n',Ab, '\\n')\n"
   ]
  },
  {
   "cell_type": "code",
   "execution_count": 8,
   "metadata": {},
   "outputs": [
    {
     "data": {
      "text/plain": [
       "array([1.  , 0.05])"
      ]
     },
     "execution_count": 8,
     "metadata": {},
     "output_type": "execute_result"
    }
   ],
   "source": [
    "x = Ab[:, n]\n",
    "x"
   ]
  },
  {
   "attachments": {},
   "cell_type": "markdown",
   "metadata": {},
   "source": [
    "### If we do not know no. of solutions"
   ]
  },
  {
   "cell_type": "code",
   "execution_count": 10,
   "metadata": {},
   "outputs": [
    {
     "data": {
      "image/png": "[encoded data removed]",
      "text/latex": [
       "$\\displaystyle \\left\\{\\left( 5.0 z - 200000.0, \\  400000.0 - 6.0 z, \\  z\\right)\\right\\}$"
      ],
      "text/plain": [
       "{(5.0⋅z - 200000.0, 400000.0 - 6.0⋅z, z)}"
      ]
     },
     "execution_count": 10,
     "metadata": {},
     "output_type": "execute_result"
    }
   ],
   "source": [
    "import sympy as sp\n",
    "sp.init_printing()\n",
    "x, y, z = sp.symbols('x y z')\n",
    "A = sp.Matrix([[1,1,1], [0.04,0.05,0.1]])\n",
    "b = sp.Matrix([200000,12000])\n",
    "sp.linsolve((A, b), x, y, z)"
   ]
  }
 ],
 "metadata": {
  "kernelspec": {
   "display_name": "base",
   "language": "python",
   "name": "python3"
  },
  "language_info": {
   "codemirror_mode": {
    "name": "ipython",
    "version": 3
   },
   "file_extension": ".py",
   "mimetype": "text/x-python",
   "name": "python",
   "nbconvert_exporter": "python",
   "pygments_lexer": "ipython3",
   "version": "3.9.12"
  },
  "orig_nbformat": 4
 },
 "nbformat": 4,
 "nbformat_minor": 2
}
