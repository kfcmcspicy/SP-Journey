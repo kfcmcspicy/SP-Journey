{
 "cells": [
  {
   "cell_type": "markdown",
   "metadata": {},
   "source": [
    "# Practical 6a: SymPy Library\n",
    "\n",
    "SymPy is a Python library that allows algebraic manipulation. In this assignment, we are going to make use of the library to obtain the derivatives of functions $y=f(x)$.\n",
    "\n",
    "Firstly, the symbols of the variables need to be declared."
   ]
  },
  {
   "cell_type": "code",
   "execution_count": null,
   "metadata": {},
   "outputs": [],
   "source": [
    "import sympy as sp\n",
    "\n",
    "# Define the symbol x\n",
    "x=sp.Symbol('x') "
   ]
  },
  {
   "cell_type": "markdown",
   "metadata": {},
   "source": [
    "We can then perform differentiation using the syntax *sp.diff(func,var)*, where *func* is the expression of the function we are differentiating and *var* is the variable that we are differentiating with respect to. For example, we have learnt that \n",
    "\\begin{equation}\n",
    "    \\frac{d}{dx}(x^3-2x+1)=3x^2-2.\n",
    "\\end{equation}\n",
    "$x^3-2x+1$ is the function we are differentiating and $x$ is the variable we are differentiating with respect to. Using Python, we get"
   ]
  },
  {
   "cell_type": "code",
   "execution_count": null,
   "metadata": {},
   "outputs": [],
   "source": [
    "sp.diff(x**3-2*x+1,x)\n"
   ]
  },
  {
   "cell_type": "markdown",
   "metadata": {},
   "source": [
    "We can now look at the examples in the lecture notes and obtain the derivatives using Python. Let us look at Example 12a,\n",
    "\\begin{equation}\n",
    "    y=(t-1)^2(5t+3).\n",
    "\\end{equation}\n",
    "By using Product Rule, we obtain\n",
    "\\begin{equation}\n",
    "    \\frac{dy}{dt}=(t-1)(15t+1).\n",
    "\\end{equation}\n",
    "We shall see what we get from Python,"
   ]
  },
  {
   "cell_type": "code",
   "execution_count": null,
   "metadata": {},
   "outputs": [],
   "source": [
    "import sympy as sp\n",
    "\n",
    "# Define the symbol\n",
    "     # students to fill in this line\n",
    "\n",
    "# Find the derivative\n",
    "sp.diff(,) # students to fill in function and variable"
   ]
  },
  {
   "cell_type": "markdown",
   "metadata": {},
   "source": [
    "Notice the difference in the expression provided? To get the final solution, we can use *simplify* in SymPy,"
   ]
  },
  {
   "cell_type": "code",
   "execution_count": null,
   "metadata": {},
   "outputs": [],
   "source": [
    "import sympy as sp\n",
    "\n",
    "# Define the symbol\n",
    "x = sp.Symbol('x')     # students to fill in this line\n",
    "\n",
    "# Find the derivative\n",
    "derivative = sp.diff(sp.sqrt(x)-sp.csc(x),x) # students to fill in function and variable\n",
    "sp.simplify(derivative)"
   ]
  },
  {
   "cell_type": "code",
   "execution_count": null,
   "metadata": {},
   "outputs": [],
   "source": []
  }
 ],
 "metadata": {
  "kernelspec": {
   "display_name": "Python 3",
   "language": "python",
   "name": "python3"
  },
  "language_info": {
   "codemirror_mode": {
    "name": "ipython",
    "version": 3
   },
   "file_extension": ".py",
   "mimetype": "text/x-python",
   "name": "python",
   "nbconvert_exporter": "python",
   "pygments_lexer": "ipython3",
   "version": "3.8.5"
  }
 },
 "nbformat": 4,
 "nbformat_minor": 2
}
