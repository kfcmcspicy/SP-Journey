{
 "cells": [
  {
   "cell_type": "code",
   "execution_count": 150,
   "metadata": {},
   "outputs": [],
   "source": [
    "# Importing libarys\n",
    "import numpy as np\n",
    "import pandas as pd\n",
    "from sklearn import datasets\n",
    "import seaborn as sns\n",
    "import matplotlib.pyplot as plt\n",
    "\n",
    "from sklearn.neighbors import KNeighborsClassifier\n",
    "from sklearn.preprocessing import MinMaxScaler\n",
    "from sklearn.ensemble import RandomForestClassifier\n",
    "from sklearn.linear_model import SGDClassifier\n",
    "\n",
    "from sklearn.model_selection import cross_val_score\n",
    "from sklearn.model_selection import train_test_split\n",
    "from sklearn.metrics import accuracy_score"
   ]
  },
  {
   "attachments": {},
   "cell_type": "markdown",
   "metadata": {},
   "source": [
    "How is your prediction task defined? And what is the meaning of the output variable?"
   ]
  },
  {
   "cell_type": "code",
   "execution_count": 136,
   "metadata": {},
   "outputs": [],
   "source": [
    "# Reading credit dataset\n",
    "data = pd.read_csv('credit_dataset.csv', index_col=0)"
   ]
  },
  {
   "cell_type": "code",
   "execution_count": 137,
   "metadata": {},
   "outputs": [],
   "source": [
    "# Perform one-hot encoding\n",
    "dummies = pd.get_dummies(data[[\"Gender\", \"Education\", \"Marriage Status\"]])\n",
    "\n",
    "# Concatenate the original data with the encoded dummies\n",
    "data_enc = pd.concat([data, dummies], axis=1)\n",
    "\n",
    "# Do feature engineering to get the total amount for bill amount and pay amount; then find the amount each customer owes the bank\n",
    "data_enc[\"total bill\"] = data_enc[\"Bill_Amount1\"] + data_enc[\"Bill_Amount2\"] + data_enc[\"Bill_Amount3\"]\n",
    "data_enc[\"total paid\"] = data_enc[\"Pay_Amount1\"] + data_enc[\"Pay_Amount2\"] + data_enc[\"Pay_Amount3\"]\n",
    "data_enc[\"outstanding payable\"] = data_enc[\"total bill\"] - data_enc[\"total paid\"]\n",
    "\n",
    "# Create a subset to be dropped\n",
    "to_drop = [\"Gender\", \"Education\", \"Marriage Status\",\"Bill_Amount1\", \"Bill_Amount2\", \"Bill_Amount3\", \"Pay_Amount1\", \"Pay_Amount2\", \"Pay_Amount3\",\"Gender_male\"]\n",
    "\n",
    "#Drop the data for feature selection\n",
    "data_enc = data_enc.drop(to_drop, axis = 1)"
   ]
  },
  {
   "cell_type": "code",
   "execution_count": 138,
   "metadata": {},
   "outputs": [
    {
     "name": "stdout",
     "output_type": "stream",
     "text": [
      "             Credit Limit  Age  Default payment next month  Gender_female  \\\n",
      "Customer ID                                                                 \n",
      "1                   20000   24                           1              1   \n",
      "2                  120000   26                           1              1   \n",
      "3                   90000   34                           0              1   \n",
      "4                   50000   37                           0              1   \n",
      "5                   50000   57                           0              0   \n",
      "\n",
      "             Education_high school  Education_post-graduate  \\\n",
      "Customer ID                                                   \n",
      "1                                0                        0   \n",
      "2                                0                        0   \n",
      "3                                0                        0   \n",
      "4                                0                        0   \n",
      "5                                0                        0   \n",
      "\n",
      "             Education_univeresity  Marriage Status_married  \\\n",
      "Customer ID                                                   \n",
      "1                                1                        1   \n",
      "2                                1                        0   \n",
      "3                                1                        0   \n",
      "4                                1                        1   \n",
      "5                                1                        1   \n",
      "\n",
      "             Marriage Status_single  total bill  total paid  \\\n",
      "Customer ID                                                   \n",
      "1                                 0        7704         689   \n",
      "2                                 1        7089        2000   \n",
      "3                                 1       56825        4018   \n",
      "4                                 0      144514        5219   \n",
      "5                                 0       50122       48681   \n",
      "\n",
      "             outstanding payable  unpaid_months  \n",
      "Customer ID                                      \n",
      "1                           7015              3  \n",
      "2                           5089              3  \n",
      "3                          52807              3  \n",
      "4                         139295              3  \n",
      "5                           1441              2  \n"
     ]
    },
    {
     "name": "stderr",
     "output_type": "stream",
     "text": [
      "C:\\Users\\3mm3t\\AppData\\Local\\Temp\\ipykernel_15476\\3571068290.py:11: SettingWithCopyWarning: \n",
      "A value is trying to be set on a copy of a slice from a DataFrame.\n",
      "Try using .loc[row_indexer,col_indexer] = value instead\n",
      "\n",
      "See the caveats in the documentation: https://pandas.pydata.org/pandas-docs/stable/user_guide/indexing.html#returning-a-view-versus-a-copy\n",
      "  amounts[column] = amounts[column].apply(lambda x: 1 if x > 0 else 0)\n"
     ]
    }
   ],
   "source": [
    "\n",
    "data[\"overall_amount1\"] = data[\"Bill_Amount1\"] - data[\"Pay_Amount1\"]\n",
    "data[\"overall_amount2\"] = data[\"Bill_Amount2\"] - data[\"Pay_Amount2\"]\n",
    "data[\"overall_amount3\"] = data[\"Bill_Amount3\"] - data[\"Pay_Amount3\"]\n",
    "amounts = data[[\"overall_amount1\",\"overall_amount2\",\"overall_amount3\"]]\n",
    "\n",
    "# Iterate over each column in the DataFrame\n",
    "for column in amounts.columns:\n",
    "    # Check if the column contains numeric values\n",
    "    if pd.api.types.is_numeric_dtype(amounts[column]):\n",
    "        # Update positive values to 1 and negative values to 0\n",
    "        amounts[column] = amounts[column].apply(lambda x: 1 if x > 0 else 0)\n",
    "\n",
    "# Calculate the sum of 1s and 0s for each row\n",
    "data_enc[\"unpaid_months\"] = amounts.sum(axis=1)\n",
    "\n",
    "# Print the row sums\n",
    "print(data_enc.head())\n",
    "\n"
   ]
  },
  {
   "cell_type": "code",
   "execution_count": null,
   "metadata": {},
   "outputs": [],
   "source": [
    "# Create a StandardScaler object\n",
    "scaler = MinMaxScaler()\n",
    "\n",
    "# Select the numerical columns to be scaled\n",
    "numerical_columns = ['total bill','total paid','outstanding payable']\n",
    "\n",
    "# Scale the numerical columns\n",
    "data_enc[numerical_columns] = scaler.fit_transform(data_enc[numerical_columns])"
   ]
  },
  {
   "cell_type": "code",
   "execution_count": 141,
   "metadata": {},
   "outputs": [],
   "source": [
    "# plt.hist(data_enc[\"total bill\"], bins = 100)\n",
    "# plt.boxplot(data_enc[\"total bill\"])\n",
    "# plt.show()"
   ]
  },
  {
   "cell_type": "code",
   "execution_count": 142,
   "metadata": {},
   "outputs": [],
   "source": [
    "# from sklearn.preprocessing import MinMaxScaler\n",
    "\n",
    "# # Create a StandardScaler object\n",
    "# scaler = MinMaxScaler()\n",
    "\n",
    "# # Select the numerical columns to be scaled\n",
    "# numerical_columns = ['total bill','total paid','outstanding payable']\n",
    "\n",
    "# # Scale the numerical columns\n",
    "# data_enc[numerical_columns] = scaler.fit_transform(data_enc[numerical_columns])\n",
    "\n",
    "# # Print the scaled data\n",
    "# plt.hist(data_enc[\"total bill\"], bins = 100)\n",
    "# plt.boxplot(data_enc[\"total bill\"])\n",
    "# plt.show()\n"
   ]
  },
  {
   "cell_type": "code",
   "execution_count": 143,
   "metadata": {},
   "outputs": [],
   "source": [
    "# import numpy as np\n",
    "\n",
    "# # Apply logarithmic transformation to \"total_bill\"\n",
    "# data_enc['total_bill_log'] = np.log1p(data_enc['total bill'])\n",
    "\n",
    "# # Print the transformed data\n"
   ]
  },
  {
   "cell_type": "code",
   "execution_count": 144,
   "metadata": {},
   "outputs": [],
   "source": [
    "# plt.boxplot(data_enc[\"total_bill_log\"])\n",
    "# plt.show()"
   ]
  },
  {
   "cell_type": "code",
   "execution_count": 145,
   "metadata": {},
   "outputs": [
    {
     "name": "stdout",
     "output_type": "stream",
     "text": [
      "Cross-Validation Scores: [0.784375 0.75625  0.7625   0.765625 0.778125]\n",
      "Mean Accuracy: 0.7693749999999999\n"
     ]
    }
   ],
   "source": [
    "# Split the data into features (X) and target variable (y)\n",
    "X = data_enc.drop(\"Default payment next month\", axis=1)\n",
    "y = data_enc[\"Default payment next month\"]\n",
    "\n",
    "# Split the data into training and testing sets\n",
    "X_train, X_test, y_train, y_test = train_test_split(X, y, stratify=y, test_size=0.2, random_state=42)\n",
    "\n",
    "# Initialize the Random Forest classifier\n",
    "random_forest = RandomForestClassifier()\n",
    "\n",
    "# Train the model\n",
    "random_forest.fit(X_train, y_train)\n",
    "\n",
    "# Make predictions on the test set\n",
    "y_pred = random_forest.predict(X_test)\n",
    "\n",
    "# Perform cross-validation\n",
    "scores = cross_val_score(random_forest, X, y, cv=5)\n",
    "\n",
    "# Print the cross-validation scores\n",
    "print(\"Cross-Validation Scores:\", scores)\n",
    "print(\"Mean Accuracy:\", np.mean(scores))\n"
   ]
  },
  {
   "cell_type": "code",
   "execution_count": 146,
   "metadata": {},
   "outputs": [
    {
     "name": "stdout",
     "output_type": "stream",
     "text": [
      "Accuracy: 0.753125\n",
      "Cross-Validation Scores: [0.7875   0.7875   0.721875 0.7875   0.7875  ]\n",
      "Mean Accuracy: 0.774375\n"
     ]
    }
   ],
   "source": [
    "# Evaluate the model\n",
    "accuracy = accuracy_score(y_test, y_pred)\n",
    "print(\"Accuracy:\", accuracy)\n",
    "\n",
    "# Split the data into features (X) and target variable (y)\n",
    "X = data_enc.drop(\"Default payment next month\", axis=1)\n",
    "y = data_enc[\"Default payment next month\"]\n",
    "\n",
    "# Initialize the SGDClassifier\n",
    "sgd_classifier = SGDClassifier()\n",
    "\n",
    "# Perform cross-validation\n",
    "scores = cross_val_score(sgd_classifier, X, y, cv=5)\n",
    "\n",
    "# Print the cross-validation scores\n",
    "print(\"Cross-Validation Scores:\", scores)\n",
    "print(\"Mean Accuracy:\", np.mean(scores))"
   ]
  },
  {
   "cell_type": "code",
   "execution_count": 147,
   "metadata": {},
   "outputs": [
    {
     "name": "stdout",
     "output_type": "stream",
     "text": [
      "Accuracy: 0.753125\n",
      "Cross-Validation Scores: [0.740625 0.75     0.721875 0.721875 0.74375 ]\n",
      "Mean Accuracy: 0.735625\n"
     ]
    }
   ],
   "source": [
    "# Evaluate the model\n",
    "accuracy = accuracy_score(y_test, y_pred)\n",
    "print(\"Accuracy:\", accuracy)\n",
    "\n",
    "# Split the data into features (X) and target variable (y)\n",
    "X = data_enc.drop(\"Default payment next month\", axis=1)\n",
    "y = data_enc[\"Default payment next month\"]\n",
    "\n",
    "# Initialize the SGDClassifier\n",
    "KNN = KNeighborsClassifier()\n",
    "\n",
    "# Perform cross-validation\n",
    "scores = cross_val_score(KNN, X, y, cv=5)\n",
    "\n",
    "# Print the cross-validation scores\n",
    "print(\"Cross-Validation Scores:\", scores)\n",
    "print(\"Mean Accuracy:\", np.mean(scores))"
   ]
  },
  {
   "cell_type": "code",
   "execution_count": 148,
   "metadata": {},
   "outputs": [
    {
     "name": "stdout",
     "output_type": "stream",
     "text": [
      "Best Hyperparameters:  {'max_depth': 5, 'min_samples_leaf': 1, 'min_samples_split': 2, 'n_estimators': 300}\n",
      "Best Accuracy:  0.7953125\n",
      "Test Accuracy:  0.759375\n"
     ]
    }
   ],
   "source": [
    "# from sklearn.model_selection import GridSearchCV\n",
    "# from sklearn.ensemble import RandomForestClassifier\n",
    "# from sklearn.model_selection import train_test_split\n",
    "\n",
    "# # Split the data into features (X) and target variable (y)\n",
    "# X = data_enc.drop('Default payment next month', axis=1)\n",
    "# y = data_enc['Default payment next month']\n",
    "\n",
    "# # Split the data into training and testing sets\n",
    "# X_train, X_test, y_train, y_test = train_test_split(X, y, test_size=0.2, random_state=42)\n",
    "\n",
    "# # Define the hyperparameter grid\n",
    "# param_grid = {\n",
    "#     'n_estimators': [100, 200, 300],\n",
    "#     'max_depth': [None, 5, 10],\n",
    "#     'min_samples_split': [2, 5, 10],\n",
    "#     'min_samples_leaf': [1, 2, 4]\n",
    "# }\n",
    "\n",
    "# # Create the RandomForestClassifier\n",
    "# rf = RandomForestClassifier(random_state=42)\n",
    "\n",
    "# # Create the GridSearchCV object\n",
    "# grid_search = GridSearchCV(estimator=rf, param_grid=param_grid, cv=5, scoring='accuracy')\n",
    "\n",
    "# # Fit the GridSearchCV object to the training data\n",
    "# grid_search.fit(X_train, y_train)\n",
    "\n",
    "# # Print the best hyperparameters and the corresponding accuracy\n",
    "# print(\"Best Hyperparameters: \", grid_search.best_params_)\n",
    "# print(\"Best Accuracy: \", grid_search.best_score_)\n",
    "\n",
    "# # Evaluate the best model on the test set\n",
    "# best_model = grid_search.best_estimator_\n",
    "# test_accuracy = best_model.score(X_test, y_test)\n",
    "# print(\"Test Accuracy: \", test_accuracy)\n"
   ]
  }
 ],
 "metadata": {
  "kernelspec": {
   "display_name": "base",
   "language": "python",
   "name": "python3"
  },
  "language_info": {
   "codemirror_mode": {
    "name": "ipython",
    "version": 3
   },
   "file_extension": ".py",
   "mimetype": "text/x-python",
   "name": "python",
   "nbconvert_exporter": "python",
   "pygments_lexer": "ipython3",
   "version": "3.9.13"
  },
  "orig_nbformat": 4
 },
 "nbformat": 4,
 "nbformat_minor": 2
}
